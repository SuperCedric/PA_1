{
 "cells": [
  {
   "cell_type": "markdown",
   "id": "9c012f8e-a659-4efc-9c03-0e7c50a09a5c",
   "metadata": {},
   "source": [
    "# Alphabet Soup"
   ]
  },
  {
   "cell_type": "code",
   "execution_count": 2,
   "id": "22821d13-89f3-4f76-8b7a-a41f92408733",
   "metadata": {},
   "outputs": [
    {
     "name": "stdin",
     "output_type": "stream",
     "text": [
      "Enter a word:  cedric\n"
     ]
    },
    {
     "data": {
      "text/plain": [
       "'ccdeir'"
      ]
     },
     "execution_count": 2,
     "metadata": {},
     "output_type": "execute_result"
    }
   ],
   "source": [
    "#create function named alphabet_soup that sorts the sentence\n",
    "def alphabet_soup():\n",
    "    x = input(\"Enter a word: \")\n",
    "    y = \"\".join(sorted(x))\n",
    "    return y\n",
    "\n",
    "#call the function\n",
    "alphabet_soup()"
   ]
  },
  {
   "cell_type": "code",
   "execution_count": 3,
   "id": "d7948390-78de-496f-82cc-408a2df0f375",
   "metadata": {},
   "outputs": [
    {
     "name": "stdin",
     "output_type": "stream",
     "text": [
      "Enter a sentence:  hello I am Smile\n"
     ]
    },
    {
     "data": {
      "text/plain": [
       "'hello I am :) '"
      ]
     },
     "execution_count": 3,
     "metadata": {},
     "output_type": "execute_result"
    }
   ],
   "source": [
    "#create the function that changes the words to its corresponding emoticons\n",
    "def emotify(sentence):\n",
    "    emoticons = {\"smile\":\":)\", \"grin\":\":D\", \"sad\":\":((\", \"mad\":\">:(\"}\n",
    "    sentence.split\n",
    "    result = []\n",
    "    for word in sentence.split():\n",
    "        og_word = word\n",
    "        lower = word.lower()\n",
    "        result.append(emoticons.get(lower, og_word))\n",
    "        result.append(\" \")\n",
    "    return \"\".join(result)\n",
    "\n",
    "#user will input a sentence and the function is called to emotify it\n",
    "emotify(input(\"Enter a sentence: \"))"
   ]
  },
  {
   "cell_type": "markdown",
   "id": "1104f1f1-fce8-4270-aa4b-a5ba692597e2",
   "metadata": {},
   "source": [
    "# Unpacking List Problem"
   ]
  },
  {
   "cell_type": "code",
   "execution_count": 5,
   "id": "f9100481-8107-4366-b4e1-a10a558a37c7",
   "metadata": {},
   "outputs": [
    {
     "name": "stdout",
     "output_type": "stream",
     "text": [
      "First: 1\n",
      "Middle: [2, 3, 4, 5]\n",
      "Last: 6\n"
     ]
    }
   ],
   "source": [
    "#initialize the list\n",
    "writeyourcodehere = [1, 2, 3, 4, 5, 6]\n",
    "\n",
    "#unpack the list-first will be assigned to index 0, last will be assigned to the last index, while *middle will be assigned to all elements in between\n",
    "first, *middle, last = writeyourcodehere\n",
    "\n",
    "#print the results\n",
    "print(\"First:\", first)\n",
    "print(\"Middle:\", middle)\n",
    "print(\"Last:\", last)"
   ]
  },
  {
   "cell_type": "code",
   "execution_count": null,
   "id": "ad0a7f65-0947-4d40-ae24-ebb731cfdcf1",
   "metadata": {},
   "outputs": [],
   "source": []
  }
 ],
 "metadata": {
  "kernelspec": {
   "display_name": "Python 3 (ipykernel)",
   "language": "python",
   "name": "python3"
  },
  "language_info": {
   "codemirror_mode": {
    "name": "ipython",
    "version": 3
   },
   "file_extension": ".py",
   "mimetype": "text/x-python",
   "name": "python",
   "nbconvert_exporter": "python",
   "pygments_lexer": "ipython3",
   "version": "3.12.4"
  }
 },
 "nbformat": 4,
 "nbformat_minor": 5
}
